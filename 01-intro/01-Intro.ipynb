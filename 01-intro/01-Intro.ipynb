{
 "cells": [
  {
   "cell_type": "code",
   "execution_count": 2,
   "id": "82aeb6f2-d85d-48de-a393-26f1f7614154",
   "metadata": {},
   "outputs": [],
   "source": [
    "import openai\n",
    "from openai import OpenAI"
   ]
  },
  {
   "cell_type": "code",
   "execution_count": 14,
   "id": "6bfefded-1be3-4501-ae0a-63851a662b6d",
   "metadata": {},
   "outputs": [],
   "source": [
    "client = OpenAI(\n",
    "    base_url= \"https://api.deepseek.com/v1\",\n",
    "    api_key= \"deepseek_api_key\"\n",
    "                \n",
    ")"
   ]
  },
  {
   "cell_type": "code",
   "execution_count": 8,
   "id": "dc0704ed-5c36-44b9-a6e5-b264a114224e",
   "metadata": {},
   "outputs": [],
   "source": [
    "response = client.chat.completions.create(\n",
    "    model= \"deepseek-chat\",\n",
    "    messages=[{\n",
    "            \"role\":\"user\", \"content\":\"How I can join the course of DataTalksClub in llm-zoomcamp?\"\n",
    "        }]\n",
    ")"
   ]
  },
  {
   "cell_type": "code",
   "execution_count": 9,
   "id": "0fdbfcb1-3688-4cc2-8cfb-1a29a95e5333",
   "metadata": {},
   "outputs": [
    {
     "data": {
      "text/plain": [
       "ChatCompletion(id='f7765701-fe3f-4c34-829c-4f3919aa0efc', choices=[Choice(finish_reason='stop', index=0, logprobs=None, message=ChatCompletionMessage(content='To join the **LLM ZoomCamp** course by **DataTalksClub**, follow these steps:\\n\\n### **1. Check the Official Course Page**\\n- Visit the course page: [https://datatalks.club/courses/llm-zoomcamp.html](https://datatalks.club/courses/llm-zoomcamp.html)  \\n- Read the syllabus, prerequisites, and schedule.\\n\\n### **2. Register for the Course**\\n- If the course is currently open for registration, there should be a **sign-up form** or **Google Form** link on the page.\\n- If registration is closed, check for announcements on **Slack** or **Twitter** for the next cohort.\\n\\n### **3. Join the DataTalksClub Community**\\n- **Slack**: Join their Slack workspace ([https://datatalks.club/slack.html](https://datatalks.club/slack.html)) and look for the `#llm-zoomcamp` channel.\\n- **GitHub**: Course materials are often hosted on GitHub ([https://github.com/DataTalksClub/llm-zoomcamp](https://github.com/DataTalksClub/llm-zoomcamp)).\\n\\n### **4. Follow Updates**\\n- Subscribe to **DataTalksClub’s newsletter** (if available) or follow them on:\\n  - Twitter: [https://twitter.com/DataTalksClub](https://twitter.com/DataTalksClub)  \\n  - LinkedIn: [https://www.linkedin.com/company/datatalsclub](https://www.linkedin.com/company/datatalsclub)  \\n\\n### **5. Start Learning (If Self-Paced)**\\nIf the course is self-paced, you can access materials on **GitHub** or **YouTube** (recorded lectures may be available).\\n\\nWould you like help finding the latest cohort details? Let me know! 🚀', refusal=None, role='assistant', annotations=None, audio=None, function_call=None, tool_calls=None))], created=1748887057, model='deepseek-chat', object='chat.completion', service_tier=None, system_fingerprint='fp_8802369eaa_prod0425fp8', usage=CompletionUsage(completion_tokens=393, prompt_tokens=21, total_tokens=414, completion_tokens_details=None, prompt_tokens_details=PromptTokensDetails(audio_tokens=None, cached_tokens=0), prompt_cache_hit_tokens=0, prompt_cache_miss_tokens=21))"
      ]
     },
     "execution_count": 9,
     "metadata": {},
     "output_type": "execute_result"
    }
   ],
   "source": [
    "response"
   ]
  },
  {
   "cell_type": "code",
   "execution_count": 13,
   "id": "687037fc-5739-4012-99fb-ea03d158fb47",
   "metadata": {},
   "outputs": [
    {
     "data": {
      "text/plain": [
       "'To join the **LLM ZoomCamp** course by **DataTalksClub**, follow these steps:\\n\\n### **1. Check the Official Course Page**\\n- Visit the course page: [https://datatalks.club/courses/llm-zoomcamp.html](https://datatalks.club/courses/llm-zoomcamp.html)  \\n- Read the syllabus, prerequisites, and schedule.\\n\\n### **2. Register for the Course**\\n- If the course is currently open for registration, there should be a **sign-up form** or **Google Form** link on the page.\\n- If registration is closed, check for announcements on **Slack** or **Twitter** for the next cohort.\\n\\n### **3. Join the DataTalksClub Community**\\n- **Slack**: Join their Slack workspace ([https://datatalks.club/slack.html](https://datatalks.club/slack.html)) and look for the `#llm-zoomcamp` channel.\\n- **GitHub**: Course materials are often hosted on GitHub ([https://github.com/DataTalksClub/llm-zoomcamp](https://github.com/DataTalksClub/llm-zoomcamp)).\\n\\n### **4. Follow Updates**\\n- Subscribe to **DataTalksClub’s newsletter** (if available) or follow them on:\\n  - Twitter: [https://twitter.com/DataTalksClub](https://twitter.com/DataTalksClub)  \\n  - LinkedIn: [https://www.linkedin.com/company/datatalsclub](https://www.linkedin.com/company/datatalsclub)  \\n\\n### **5. Start Learning (If Self-Paced)**\\nIf the course is self-paced, you can access materials on **GitHub** or **YouTube** (recorded lectures may be available).\\n\\nWould you like help finding the latest cohort details? Let me know! 🚀'"
      ]
     },
     "execution_count": 13,
     "metadata": {},
     "output_type": "execute_result"
    }
   ],
   "source": [
    "response.choices[0].message.content"
   ]
  },
  {
   "cell_type": "markdown",
   "id": "b4e9e840-6498-450a-9e7e-b943c1b55ed9",
   "metadata": {},
   "source": [
    "To join the **LLM ZoomCamp** course by **DataTalksClub**, follow these steps:\\n ### **1. Check the Official Course Page**\\n - Visit the course page: [https://datatalks.club/courses/llm-zoomcamp.html](https://datatalks.club/courses/llm-zoomcamp.html)  \\n - Read the syllabus, prerequisites, and schedule.\\n\\n### **2. Register for the Course**\\n- If the course is currently open for registration, there should be a **sign-up form** or **Google Form** link on the page.\\n- If registration is closed, check for announcements on **Slack** or **Twitter** for the next cohort.\\n\\n### **3. Join the DataTalksClub Community**\\n- **Slack**: Join their Slack workspace ([https://datatalks.club/slack.html](https://datatalks.club/slack.html)) and look for the `#llm-zoomcamp` channel.\\n- **GitHub**: Course materials are often hosted on GitHub ([https://github.com/DataTalksClub/llm-zoomcamp](https://github.com/DataTalksClub/llm-zoomcamp)).\\n\\n### **4. Follow Updates**\\n- Subscribe to **DataTalksClub’s newsletter** (if available) or follow them on:\\n  - Twitter: [https://twitter.com/DataTalksClub](https://twitter.com/DataTalksClub)  \\n  - LinkedIn: [https://www.linkedin.com/company/datatalsclub](https://www.linkedin.com/company/datatalsclub)  \\n\\n### **5. Start Learning (If Self-Paced)**\\nIf the course is self-paced, you can access materials on **GitHub** or **YouTube** (recorded lectures may be available).\\n\\nWould you like help finding the latest cohort details? Let me know! 🚀"
   ]
  },
  {
   "cell_type": "code",
   "execution_count": null,
   "id": "8ee9e4e7-1a7f-408a-b750-7bcb55c680e8",
   "metadata": {},
   "outputs": [],
   "source": []
  }
 ],
 "metadata": {
  "kernelspec": {
   "display_name": "Python 3 (ipykernel)",
   "language": "python",
   "name": "python3"
  },
  "language_info": {
   "codemirror_mode": {
    "name": "ipython",
    "version": 3
   },
   "file_extension": ".py",
   "mimetype": "text/x-python",
   "name": "python",
   "nbconvert_exporter": "python",
   "pygments_lexer": "ipython3",
   "version": "3.12.1"
  }
 },
 "nbformat": 4,
 "nbformat_minor": 5
}
