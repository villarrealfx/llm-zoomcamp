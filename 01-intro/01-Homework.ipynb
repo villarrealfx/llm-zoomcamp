{
 "cells": [
  {
   "cell_type": "code",
   "execution_count": null,
   "id": "82aeb6f2-d85d-48de-a393-26f1f7614154",
   "metadata": {},
   "outputs": [],
   "source": [
    "# 1. Standard Python Libraries\n",
    "import os\n",
    "\n",
    "# 2. Third-party libraries (alphabetical order)\n",
    "import requests\n",
    "from dotenv import load_dotenv\n",
    "from elasticsearch import Elasticsearch\n",
    "from openai import OpenAI\n",
    "from tqdm.auto import tqdm\n",
    "from transformers import AutoTokenizer\n",
    "\n",
    "# 3 Local imports (alphabetical order)\n"
   ]
  },
  {
   "cell_type": "code",
   "execution_count": null,
   "id": "ea0b46d5",
   "metadata": {},
   "outputs": [],
   "source": [
    "# Load environment variables\n",
    "load_dotenv(override=True)\n",
    "\n",
    "# Set environment variables for LLM configuration\n",
    "api_key = os.getenv('DEEPSEEK_API_KEY')\n",
    "url_base = os.getenv('DEEPSEEK_URL_BASE')\n",
    "model = os.getenv('DEEPSEEK_MODEL')\n",
    "\n",
    "# Convert the temperature to float, since a number is expected\n",
    "temperature = float(os.getenv('DEEPSEEK_TEMP', 0.7))\n",
    "\n",
    "client = OpenAI(\n",
    "    base_url= f\"{url_base}/v1\",\n",
    "    api_key= api_key               \n",
    ")"
   ]
  },
  {
   "cell_type": "markdown",
   "id": "e898eb09",
   "metadata": {},
   "source": [
    "```bash\n",
    "curl localhost:9200\n",
    "\n",
    "{\n",
    "  \"name\" : \"8ecda94a8498\",\n",
    "  \"cluster_name\" : \"docker-cluster\",\n",
    "  \"cluster_uuid\" : \"YVhGXINSTB6mxh7Yd8ycEw\",\n",
    "  \"version\" : {\n",
    "    \"number\" : \"8.17.6\",\n",
    "    \"build_flavor\" : \"default\",\n",
    "    \"build_type\" : \"docker\",\n",
    "    \"build_hash\" : \"dbcbbbd0bc4924cfeb28929dc05d82d662c527b7\",\n",
    "    \"build_date\" : \"2025-04-30T14:07:12.231372970Z\",\n",
    "    \"build_snapshot\" : false,\n",
    "    \"lucene_version\" : \"9.12.0\",\n",
    "    \"minimum_wire_compatibility_version\" : \"7.17.0\",\n",
    "    \"minimum_index_compatibility_version\" : \"7.0.0\"\n",
    "  },\n",
    "  \"tagline\" : \"You Know, for Search\"\n",
    "}\n",
    "```\n",
    "`\"build_hash\" : \"dbcbbbd0bc4924cfeb28929dc05d82d662c527b7\"`"
   ]
  },
  {
   "cell_type": "code",
   "execution_count": null,
   "id": "01d4647a",
   "metadata": {},
   "outputs": [],
   "source": [
    "# Download and initial document process\n",
    "docs_url = 'https://github.com/DataTalksClub/llm-zoomcamp/blob/main/01-intro/documents.json?raw=1'\n",
    "docs_response = requests.get(docs_url)\n",
    "documents_raw = docs_response.json()\n",
    "\n",
    "documents = []\n",
    "\n",
    "for course in documents_raw:\n",
    "    course_name = course['course']\n",
    "\n",
    "    for doc in course['documents']:\n",
    "        doc['course'] = course_name\n",
    "        documents.append(doc)"
   ]
  },
  {
   "cell_type": "code",
   "execution_count": 5,
   "id": "41d0f261",
   "metadata": {},
   "outputs": [
    {
     "data": {
      "text/plain": [
       "{'text': \"The purpose of this document is to capture frequently asked technical questions\\nThe exact day and hour of the course will be 15th Jan 2024 at 17h00. The course will start with the first  “Office Hours'' live.1\\nSubscribe to course public Google Calendar (it works from Desktop only).\\nRegister before the course starts using this link.\\nJoin the course Telegram channel with announcements.\\nDon’t forget to register in DataTalks.Club's Slack and join the channel.\",\n",
       " 'section': 'General course-related questions',\n",
       " 'question': 'Course - When will the course start?',\n",
       " 'course': 'data-engineering-zoomcamp'}"
      ]
     },
     "execution_count": 5,
     "metadata": {},
     "output_type": "execute_result"
    }
   ],
   "source": [
    "documents[0]"
   ]
  },
  {
   "cell_type": "code",
   "execution_count": null,
   "id": "f2ae52bc",
   "metadata": {},
   "outputs": [
    {
     "name": "stdout",
     "output_type": "stream",
     "text": [
      "¡Conexión exitosa a Elasticsearch!\n"
     ]
    }
   ],
   "source": [
    "#1. Connect to Elasticsearch\n",
    "es_client = Elasticsearch(\n",
    "    hosts=['htt://localhost:9200'],\n",
    "    request_timeout=30\n",
    "    )\n",
    "\n",
    "try:\n",
    "    if es_client.ping():\n",
    "        print(\"¡Conexión exitosa a Elasticsearch!\")\n",
    "    else:\n",
    "        print(\"No se pudo conectar a Elasticsearch.\")\n",
    "        exit()\n",
    "except Exception as e:\n",
    "    print(f\"Error al conectar a Elasticsearch: {e}\")\n",
    "    exit()"
   ]
  },
  {
   "cell_type": "code",
   "execution_count": null,
   "id": "2f07bb45",
   "metadata": {},
   "outputs": [
    {
     "name": "stdout",
     "output_type": "stream",
     "text": [
      "El índice 'course-questions' no existe, se creará.\n"
     ]
    }
   ],
   "source": [
    "# 2. Define the index name and configuration\n",
    "actual_index_name = 'course-questions'\n",
    "\n",
    "# 3 Check if the index exists, if so, delete it\n",
    "if es_client.indices.exists(index=actual_index_name):\n",
    "    print(f\"El índice '{actual_index_name}' ya existe. Procediendo a borrarlo...\")\n",
    "    try:\n",
    "        es_client.indices.delete(index=actual_index_name)\n",
    "        print(f\"Índice '{actual_index_name}' borrado exitosamente.\")\n",
    "    except Exception as e:\n",
    "        print(f\"Error al borrar el índice '{actual_index_name}': {e}\")\n",
    "        # Considera si quieres salir o continuar si el borrado falla\n",
    "else:\n",
    "    print(f\"El índice '{actual_index_name}' no existe, se creará.\")"
   ]
  },
  {
   "cell_type": "code",
   "execution_count": null,
   "id": "7095b258",
   "metadata": {},
   "outputs": [
    {
     "data": {
      "text/plain": [
       "ObjectApiResponse({'acknowledged': True, 'shards_acknowledged': True, 'index': 'course-questions'})"
      ]
     },
     "execution_count": 8,
     "metadata": {},
     "output_type": "execute_result"
    }
   ],
   "source": [
    "# 4 Create the index with the settings and mappings:\n",
    "index_settings = {\n",
    "    \"settings\": {\n",
    "        \"number_of_shards\": 1,\n",
    "        \"number_of_replicas\": 0\n",
    "    },\n",
    "    \"mappings\": {\n",
    "        \"properties\": {\n",
    "            \"text\": {\"type\": \"text\"},\n",
    "            \"section\": {\"type\": \"text\"},\n",
    "            \"question\": {\"type\": \"text\"},\n",
    "            \"course\": {\"type\": \"keyword\"} \n",
    "        }\n",
    "    }\n",
    "}\n",
    "\n",
    "index_name = 'course-questions'\n",
    "es_client.indices.create(index=index_name, body=index_settings)"
   ]
  },
  {
   "cell_type": "code",
   "execution_count": null,
   "id": "dcc7492f",
   "metadata": {},
   "outputs": [
    {
     "data": {
      "application/vnd.jupyter.widget-view+json": {
       "model_id": "75eeec0a7c7341388d344979dc788ebd",
       "version_major": 2,
       "version_minor": 0
      },
      "text/plain": [
       "  0%|          | 0/948 [00:00<?, ?it/s]"
      ]
     },
     "metadata": {},
     "output_type": "display_data"
    }
   ],
   "source": [
    "# 5 Index the document\n",
    "for doc in tqdm(documents):\n",
    "    es_client.index(index=index_name, document=doc)"
   ]
  },
  {
   "cell_type": "code",
   "execution_count": null,
   "id": "6097235f",
   "metadata": {},
   "outputs": [],
   "source": [
    "query = 'I just discovered the course. Can I still join it?'"
   ]
  },
  {
   "cell_type": "code",
   "execution_count": null,
   "id": "35133ee0",
   "metadata": {},
   "outputs": [],
   "source": [
    "# Function to build prompt\n",
    "def build_prompt(query, search_results):\n",
    "    prompt_template = \"\"\"\n",
    "    You're a course teaching assistant. Answer the QUESTION based on the CONTEXT from the FAQ database.\n",
    "    Use only the facts from the CONTEXT when answering the QUESTION.\n",
    "\n",
    "    QUESTION: {question}\n",
    "\n",
    "    CONTEXT: \n",
    "    {context}\n",
    "    \"\"\".strip()\n",
    "\n",
    "    context = \"\"\n",
    "    \n",
    "    for doc in search_results:\n",
    "        context = context + f\"section: {doc['section']}\\nquestion: {doc['question']}\\nanswer: {doc['text']}\\n\\n\"\n",
    "    \n",
    "    prompt = prompt_template.format(question=query, context=context).strip()\n",
    "    return prompt"
   ]
  },
  {
   "cell_type": "code",
   "execution_count": null,
   "id": "82897486",
   "metadata": {},
   "outputs": [],
   "source": [
    "# Function to consult llm\n",
    "def llm(prompt):\n",
    "    response = client.chat.completions.create(\n",
    "        model=model,\n",
    "        messages=[{\"role\": \"user\", \"content\": prompt}]\n",
    "    )\n",
    "    \n",
    "    return response.choices[0].message.content"
   ]
  },
  {
   "cell_type": "code",
   "execution_count": null,
   "id": "2def381e",
   "metadata": {},
   "outputs": [],
   "source": [
    "# Funtion use elastic_search\n",
    "def elastic_search(query):\n",
    "    \n",
    "    search_query = {\n",
    "        \"size\": 5,\n",
    "        \"query\": {\n",
    "            \"bool\": {\n",
    "                \"must\": {\n",
    "                    \"multi_match\": {\n",
    "                        \"query\": query,\n",
    "                        \"fields\": [\"question^3\", \"text\", \"section\"],\n",
    "                        \"type\": \"best_fields\"\n",
    "                    }\n",
    "                },\n",
    "                \"filter\": {\n",
    "                    \"term\": {\n",
    "                        \"course\": \"data-engineering-zoomcamp\"\n",
    "                    }\n",
    "                }\n",
    "            }\n",
    "        }\n",
    "    }\n",
    "\n",
    "    response = es_client.search(index=index_name, body=search_query)\n",
    "    result_docs = []\n",
    "    for hit in response ['hits']['hits']:\n",
    "        result_docs.append(hit['_source'])\n",
    "    \n",
    "    return result_docs\n"
   ]
  },
  {
   "cell_type": "code",
   "execution_count": null,
   "id": "43f75735",
   "metadata": {},
   "outputs": [],
   "source": [
    "# Funtion RAG \n",
    "def rag(query):\n",
    "    search_results = elastic_search(query)\n",
    "    prompt = build_prompt(query, search_results)\n",
    "    answer = llm(prompt)\n",
    "\n",
    "    return answer"
   ]
  },
  {
   "cell_type": "code",
   "execution_count": null,
   "id": "af69b36b",
   "metadata": {},
   "outputs": [],
   "source": [
    "rag(query)"
   ]
  },
  {
   "cell_type": "markdown",
   "id": "fb1ab7ae",
   "metadata": {},
   "source": [
    "## Modificaciones de código para respuestas a Homework\n"
   ]
  },
  {
   "cell_type": "code",
   "execution_count": null,
   "id": "d82eb9a8",
   "metadata": {},
   "outputs": [],
   "source": [
    "# Modified so that the context expresses the requested form\n",
    "def build_prompt_mod(query, search_results):\n",
    "    prompt_template = \"\"\"\n",
    "    You're a course teaching assistant. Answer the QUESTION based on the CONTEXT from the FAQ database.\n",
    "    Use only the facts from the CONTEXT when answering the QUESTION.\n",
    "\n",
    "    QUESTION: {question}\n",
    "\n",
    "    CONTEXT: \n",
    "    {context}\n",
    "    \"\"\".strip()\n",
    "\n",
    "    context = \"\"\n",
    "    \n",
    "    for doc in search_results:\n",
    "        context = context + f\"Q: {doc['question']}\\nA: {doc['text']}\\n\\n\"\n",
    "    \n",
    "    prompt = prompt_template.format(question=query, context=context).strip()\n",
    "    return prompt"
   ]
  },
  {
   "cell_type": "code",
   "execution_count": null,
   "id": "927e0a06",
   "metadata": {},
   "outputs": [],
   "source": [
    "# It was modified so that the fields and courses would adapt to the requested data\n",
    "def elastic_search_mod(query):\n",
    "    \n",
    "    search_query = {\n",
    "        \"size\": 3,\n",
    "        \"query\": {\n",
    "            \"bool\": {\n",
    "                \"must\": {\n",
    "                    \"multi_match\": {\n",
    "                        \"query\": query,\n",
    "                        \"fields\": [\"question^4\", \"text\"],\n",
    "                        \"type\": \"best_fields\"\n",
    "                    }\n",
    "                },\n",
    "                \"filter\": {\n",
    "                    \"term\": {\n",
    "                        \"course\": \"machine-learning-zoomcamp\"\n",
    "                    }\n",
    "                }\n",
    "            }\n",
    "        }\n",
    "    }\n",
    "\n",
    "    response = es_client.search(index=index_name, body=search_query)\n",
    "    result_docs = []\n",
    "    for hit in response ['hits']['hits']:\n",
    "        result_docs.append(hit['_source'])\n",
    "    \n",
    "    return result_docs"
   ]
  },
  {
   "cell_type": "code",
   "execution_count": null,
   "id": "5ed402b2",
   "metadata": {},
   "outputs": [],
   "source": [
    "elastic_search_mod(\"How do copy a file to a Docker container?\")"
   ]
  },
  {
   "cell_type": "code",
   "execution_count": 13,
   "id": "719d2fd5",
   "metadata": {},
   "outputs": [
    {
     "data": {
      "text/plain": [
       "1463"
      ]
     },
     "execution_count": 13,
     "metadata": {},
     "output_type": "execute_result"
    }
   ],
   "source": [
    "query =\"How do copy a file to a Docker container?\"\n",
    "sear = elastic_search_mod(query)\n",
    "prompt_ = build_prompt_mod(query, sear)\n",
    "len(prompt_)"
   ]
  },
  {
   "cell_type": "code",
   "execution_count": null,
   "id": "e6b51b27",
   "metadata": {},
   "outputs": [],
   "source": [
    "response_llm = rag(query)"
   ]
  },
  {
   "cell_type": "code",
   "execution_count": 16,
   "id": "d7b41777",
   "metadata": {},
   "outputs": [
    {
     "data": {
      "application/vnd.jupyter.widget-view+json": {
       "model_id": "4fc40251bbd8442db511093f761b1cc1",
       "version_major": 2,
       "version_minor": 0
      },
      "text/plain": [
       "tokenizer_config.json:   0%|          | 0.00/3.13k [00:00<?, ?B/s]"
      ]
     },
     "metadata": {},
     "output_type": "display_data"
    },
    {
     "data": {
      "application/vnd.jupyter.widget-view+json": {
       "model_id": "657fced85f764dc6adc47b81e30bc3fb",
       "version_major": 2,
       "version_minor": 0
      },
      "text/plain": [
       "tokenizer.json:   0%|          | 0.00/7.85M [00:00<?, ?B/s]"
      ]
     },
     "metadata": {},
     "output_type": "display_data"
    }
   ],
   "source": [
    "tokenizer = AutoTokenizer.from_pretrained(\"deepseek-ai/deepseek-v3\")"
   ]
  },
  {
   "cell_type": "code",
   "execution_count": 17,
   "id": "20a32ae7",
   "metadata": {},
   "outputs": [],
   "source": [
    "def count_tokens_deepseek(text: str) -> int:\n",
    "    tokens = tokenizer.encode(text, add_special_tokens=False)\n",
    "    return len(tokens)"
   ]
  },
  {
   "cell_type": "code",
   "execution_count": 21,
   "id": "112f77f8",
   "metadata": {},
   "outputs": [
    {
     "data": {
      "text/plain": [
       "123"
      ]
     },
     "execution_count": 21,
     "metadata": {},
     "output_type": "execute_result"
    }
   ],
   "source": [
    "tokens_llm = count_tokens_deepseek(response_llm)\n",
    "tokens_llm"
   ]
  },
  {
   "cell_type": "code",
   "execution_count": 23,
   "id": "c47f5056",
   "metadata": {},
   "outputs": [
    {
     "data": {
      "text/plain": [
       "333"
      ]
     },
     "execution_count": 23,
     "metadata": {},
     "output_type": "execute_result"
    }
   ],
   "source": [
    "tokens_prompt = count_tokens_deepseek(prompt_)\n",
    "tokens_prompt"
   ]
  },
  {
   "cell_type": "code",
   "execution_count": 24,
   "id": "17105bdb",
   "metadata": {},
   "outputs": [
    {
     "data": {
      "text/plain": [
       "'To copy a file to a Docker container, you can use the `docker cp` command with the following syntax:  \\n\\n```bash\\ndocker cp /path/to/local/file_or_directory container_id:/path/in/container\\n```\\n\\nFor example, if you want to copy a file named `example.txt` from your local machine to a container with ID `abc123` into the `/app` directory inside the container, you would run:  \\n\\n```bash\\ndocker cp example.txt abc123:/app/\\n```  \\n\\nThis command works for both files and directories.  \\n\\n(Source: Hrithik Kumar Advani)'"
      ]
     },
     "execution_count": 24,
     "metadata": {},
     "output_type": "execute_result"
    }
   ],
   "source": [
    "response_llm"
   ]
  }
 ],
 "metadata": {
  "kernelspec": {
   "display_name": "env",
   "language": "python",
   "name": "python3"
  },
  "language_info": {
   "codemirror_mode": {
    "name": "ipython",
    "version": 3
   },
   "file_extension": ".py",
   "mimetype": "text/x-python",
   "name": "python",
   "nbconvert_exporter": "python",
   "pygments_lexer": "ipython3",
   "version": "3.10.12"
  }
 },
 "nbformat": 4,
 "nbformat_minor": 5
}
