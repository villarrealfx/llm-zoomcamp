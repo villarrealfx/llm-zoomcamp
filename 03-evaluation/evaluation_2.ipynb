{
 "cells": [
  {
   "cell_type": "code",
   "execution_count": 1,
   "id": "368d1230",
   "metadata": {},
   "outputs": [],
   "source": [
    "import json"
   ]
  },
  {
   "cell_type": "code",
   "execution_count": 2,
   "id": "1b092651",
   "metadata": {},
   "outputs": [],
   "source": [
    "with open('documents-with-ids.json', 'rt') as f_in:\n",
    "    documents = json.load(f_in)"
   ]
  },
  {
   "cell_type": "code",
   "execution_count": 4,
   "id": "25099674",
   "metadata": {},
   "outputs": [
    {
     "name": "stdout",
     "output_type": "stream",
     "text": [
      "<class 'list'>\n",
      "------\n",
      "948\n",
      "------\n",
      "{'text': \"The purpose of this document is to capture frequently asked technical questions\\nThe exact day and hour of the course will be 15th Jan 2024 at 17h00. The course will start with the first  “Office Hours'' live.1\\nSubscribe to course public Google Calendar (it works from Desktop only).\\nRegister before the course starts using this link.\\nJoin the course Telegram channel with announcements.\\nDon’t forget to register in DataTalks.Club's Slack and join the channel.\", 'section': 'General course-related questions', 'question': 'Course - When will the course start?', 'course': 'data-engineering-zoomcamp', 'id': 'c02e79ef'}\n",
      "------\n",
      "The purpose of this document is to capture frequently asked technical questions\n",
      "The exact day and hour of the course will be 15th Jan 2024 at 17h00. The course will start with the first  “Office Hours'' live.1\n",
      "Subscribe to course public Google Calendar (it works from Desktop only).\n",
      "Register before the course starts using this link.\n",
      "Join the course Telegram channel with announcements.\n",
      "Don’t forget to register in DataTalks.Club's Slack and join the channel.\n",
      "------\n"
     ]
    }
   ],
   "source": [
    "print(type(documents))\n",
    "print('------')\n",
    "print(len(documents))\n",
    "print('------')\n",
    "print(documents[0])\n",
    "print('------')\n",
    "print(documents[0]['text'])\n",
    "print('------')"
   ]
  },
  {
   "cell_type": "markdown",
   "id": "f7fe81ab",
   "metadata": {},
   "source": [
    "### Comandos docker para correr una instancia de elasticsearch en docker\n",
    "\n",
    "```bash\n",
    "docker run -it \\\n",
    "    --rm \\\n",
    "    --name elasticsearch \\\n",
    "    -m 4GB \\\n",
    "    -p 9200:9200 \\\n",
    "    -p 9300:9300 \\\n",
    "    -e \"discovery.type=single-node\" \\\n",
    "    -e \"xpack.security.enabled=false\" \\\n",
    "    -v /media/villarreal-fx/carlos-011/data_elasticsearch:/usr/share/elasticsearch/data \\  # Creando volumen para partición montada en media\n",
    "    docker.elastic.co/elasticsearch/elasticsearch:8.17.6\n",
    "```\n",
    "\n",
    "### Verificar el estado del cluster\n",
    "```bash\n",
    "curl -XGET 'http://localhost:9200/_cluster/health?pretty'\n",
    "```\n",
    "\n",
    "```bash\n",
    "{\n",
    "  \"cluster_name\" : \"docker-cluster\",\n",
    "  \"status\" : \"green\",\n",
    "  \"timed_out\" : false,\n",
    "  \"number_of_nodes\" : 1,\n",
    "  \"number_of_data_nodes\" : 1,\n",
    "  \"active_primary_shards\" : 0,\n",
    "  \"active_shards\" : 0,\n",
    "  \"relocating_shards\" : 0,\n",
    "  \"initializing_shards\" : 0,\n",
    "  \"unassigned_shards\" : 0,\n",
    "  \"unassigned_primary_shards\" : 0,\n",
    "  \"delayed_unassigned_shards\" : 0,\n",
    "  \"number_of_pending_tasks\" : 0,\n",
    "  \"number_of_in_flight_fetch\" : 0,\n",
    "  \"task_max_waiting_in_queue_millis\" : 0,\n",
    "  \"active_shards_percent_as_number\" : 100.0\n",
    "}\n",
    "```\n",
    "\n",
    "### 1. Verifica si el índice existe y su estructura:\n",
    "\n",
    "```bash\n",
    "curl -XGET 'http://localhost:9200/_cat/indices?v'\n",
    "```\n",
    "\n",
    "### 2. Consulta el mapeo del índice:\n",
    "\n",
    "```bash\n",
    "curl -XGET 'http://localhost:9200/course-questions/_mapping?pretty'\n",
    "```\n",
    "### 3. Lista todos los documentos del índice:\n",
    "\n",
    "```bash\n",
    "curl -XGET 'http://localhost:9200/course-questions/_search?pretty' -H 'Content-Type: application/json' -d'\n",
    "{\n",
    "  \"query\": { \"match_all\": {} },\n",
    "  \"size\": 10\n",
    "}'\n",
    "```\n",
    "### 4. Consulta específica para depurar\n",
    "\n",
    "```bash\n",
    "curl -XGET 'http://localhost:9200/course-questions/_search?pretty' -H 'Content-Type: application/json' -d'\n",
    "{\n",
    "  \"query\": {\n",
    "    \"bool\": {\n",
    "      \"must\": { \"match_all\": {} },\n",
    "      \"filter\": { \"term\": { \"course\": \"data-engineering-zoomcamp\" } }\n",
    "    }\n",
    "  }\n",
    "}'\n",
    "```\n",
    "\n",
    "\n",
    "\n"
   ]
  },
  {
   "cell_type": "markdown",
   "id": "b5bfd217",
   "metadata": {},
   "source": [
    "## Creación de indices"
   ]
  },
  {
   "cell_type": "code",
   "execution_count": 22,
   "id": "2b319d94",
   "metadata": {},
   "outputs": [
    {
     "name": "stdout",
     "output_type": "stream",
     "text": [
      "Intentando borrar el índice 'course-questions' si existe...\n",
      "Índice 'course-questions' borrado o no existía.\n",
      "Intentando crear el índice 'course-questions'...\n",
      "¡Índice 'course-questions' creado exitosamente!\n"
     ]
    }
   ],
   "source": [
    "\n",
    "from elasticsearch import Elasticsearch\n",
    "\n",
    "es_client = Elasticsearch('http://localhost:9200', request_timeout=60) \n",
    "\n",
    "index_settings = {\n",
    "    \"settings\": {\n",
    "        \"number_of_shards\": 1,\n",
    "        \"number_of_replicas\": 0,\n",
    "        \"index.mapping.ignore_malformed\": False,  # Evita mapeo automático\n",
    "        \"index.mapping.coerce\": False  # Evita conversiones automáticas\n",
    "    },\n",
    "    \"mappings\": {\n",
    "        \"dynamic\": \"strict\",  # Bloquea campos no definidos\n",
    "        \"properties\": {\n",
    "            \"text\": {\"type\": \"text\"},\n",
    "            \"section\": {\"type\": \"text\"},\n",
    "            \"question\": {\"type\": \"text\"},\n",
    "            \"course\": {\"type\": \"keyword\"},\n",
    "            \"id\": {\"type\": \"keyword\"},\n",
    "        }\n",
    "    }\n",
    "}\n",
    "\n",
    "index_name = \"course-questions\"\n",
    "\n",
    "try:\n",
    "    # Intenta borrar el índice (ignora si no existe)\n",
    "    print(f\"Intentando borrar el índice '{index_name}' si existe...\")\n",
    "    es_client.indices.delete(index=index_name, ignore_unavailable=True)\n",
    "    print(f\"Índice '{index_name}' borrado o no existía.\")\n",
    "\n",
    "    # Intenta crear el índice\n",
    "    print(f\"Intentando crear el índice '{index_name}'...\")\n",
    "    es_client.indices.create(index=index_name, body=index_settings)\n",
    "    print(f\"¡Índice '{index_name}' creado exitosamente!\")\n",
    "except Exception as e:\n",
    "    print(f\"ERROR: Ocurrió un problema al interactuar con Elasticsearch: {e}\")"
   ]
  },
  {
   "cell_type": "code",
   "execution_count": 23,
   "id": "dcdc95f8",
   "metadata": {},
   "outputs": [
    {
     "name": "stdout",
     "output_type": "stream",
     "text": [
      "{\n",
      "  \"course-questions\" : {\n",
      "    \"mappings\" : {\n",
      "      \"dynamic\" : \"strict\",\n",
      "      \"properties\" : {\n",
      "        \"course\" : {\n",
      "          \"type\" : \"keyword\"\n",
      "        },\n",
      "        \"id\" : {\n",
      "          \"type\" : \"keyword\"\n",
      "        },\n",
      "        \"question\" : {\n",
      "          \"type\" : \"text\"\n",
      "        },\n",
      "        \"section\" : {\n",
      "          \"type\" : \"text\"\n",
      "        },\n",
      "        \"text\" : {\n",
      "          \"type\" : \"text\"\n",
      "        }\n",
      "      }\n",
      "    }\n",
      "  }\n",
      "}\n"
     ]
    }
   ],
   "source": [
    "!curl -XGET 'http://localhost:9200/course-questions/_mapping?pretty'"
   ]
  },
  {
   "cell_type": "code",
   "execution_count": 24,
   "id": "7352df7b",
   "metadata": {},
   "outputs": [],
   "source": [
    "\n",
    "from tqdm.auto import tqdm\n",
    "\n",
    "# Función para indexar documentos con manejo de errores\n",
    "def index_documents(documents):\n",
    "    successes = 0\n",
    "    errors = 0\n",
    "    \n",
    "    for doc in tqdm(documents, desc=\"Indexando documentos\"):\n",
    "        try:\n",
    "            # Asegúrate que el documento tenga todos los campos requeridos\n",
    "            required_fields = ['text', 'section', 'question', 'course', 'id']\n",
    "            if not all(field in doc for field in required_fields):\n",
    "                print(f\"Documento falta campos requeridos: {doc}\")\n",
    "                errors += 1\n",
    "                continue\n",
    "                \n",
    "            # Intenta indexar el documento\n",
    "            response = es_client.index(\n",
    "                index=index_name,\n",
    "                document=doc,\n",
    "                id=doc['id']  # Usamos el campo 'id' como ID del documento\n",
    "            )\n",
    "            \n",
    "            if response['result'] in ['created', 'updated']:\n",
    "                successes += 1\n",
    "            else:\n",
    "                errors += 1\n",
    "                print(f\"Respuesta inesperada: {response}\")\n",
    "                \n",
    "        except Exception as e:\n",
    "            errors += 1\n",
    "            print(f\"Error indexando documento {doc.get('id', 'sin ID')}: {str(e)}\")\n",
    "    \n",
    "    print(f\"\\nResumen: {successes} documentos indexados, {errors} errores\")"
   ]
  },
  {
   "cell_type": "code",
   "execution_count": 25,
   "id": "f25e67cf",
   "metadata": {},
   "outputs": [
    {
     "name": "stdout",
     "output_type": "stream",
     "text": [
      "{\n",
      "  \"cluster_name\" : \"docker-cluster\",\n",
      "  \"status\" : \"green\",\n",
      "  \"timed_out\" : false,\n",
      "  \"number_of_nodes\" : 1,\n",
      "  \"number_of_data_nodes\" : 1,\n",
      "  \"active_primary_shards\" : 1,\n",
      "  \"active_shards\" : 1,\n",
      "  \"relocating_shards\" : 0,\n",
      "  \"initializing_shards\" : 0,\n",
      "  \"unassigned_shards\" : 0,\n",
      "  \"unassigned_primary_shards\" : 0,\n",
      "  \"delayed_unassigned_shards\" : 0,\n",
      "  \"number_of_pending_tasks\" : 0,\n",
      "  \"number_of_in_flight_fetch\" : 0,\n",
      "  \"task_max_waiting_in_queue_millis\" : 0,\n",
      "  \"active_shards_percent_as_number\" : 100.0\n",
      "}\n"
     ]
    }
   ],
   "source": [
    "!curl -XGET 'http://localhost:9200/_cluster/health?pretty'"
   ]
  },
  {
   "cell_type": "code",
   "execution_count": 26,
   "id": "76031f50",
   "metadata": {},
   "outputs": [
    {
     "data": {
      "application/vnd.jupyter.widget-view+json": {
       "model_id": "822fee08b3b64f65b47e1e27dac40ecd",
       "version_major": 2,
       "version_minor": 0
      },
      "text/plain": [
       "Indexando documentos:   0%|          | 0/948 [00:00<?, ?it/s]"
      ]
     },
     "metadata": {},
     "output_type": "display_data"
    },
    {
     "name": "stdout",
     "output_type": "stream",
     "text": [
      "\n",
      "Resumen: 948 documentos indexados, 0 errores\n"
     ]
    }
   ],
   "source": [
    "index_documents(documents)"
   ]
  },
  {
   "cell_type": "code",
   "execution_count": 27,
   "id": "8fe8a6b1",
   "metadata": {},
   "outputs": [],
   "source": [
    "def elastic_search(query, course):\n",
    "    search_query = {\n",
    "        \"size\": 5,\n",
    "        \"query\": {\n",
    "            \"bool\": {\n",
    "                \"must\": {\n",
    "                    \"multi_match\": {\n",
    "                        \"query\": query,\n",
    "                        \"fields\": [\"question^3\", \"text\", \"section\"],\n",
    "                        \"type\": \"best_fields\"\n",
    "                    }\n",
    "                },\n",
    "                \"filter\": {\n",
    "                    \"term\": {\n",
    "                        \"course\": course\n",
    "                    }\n",
    "                }\n",
    "            }\n",
    "        }\n",
    "    }\n",
    "\n",
    "    try:\n",
    "        response = es_client.search(index=index_name, body=search_query)\n",
    "        print(len(response))\n",
    "    except Exception as e:\n",
    "        print(f\"Error al realizar la búsqueda: {str(e)}\")\n",
    "        return []\n",
    "    \n",
    "    result_docs = []\n",
    "    \n",
    "    for hit in response['hits']['hits']:\n",
    "        result_docs.append(hit['_source'])\n",
    "    \n",
    "    return result_docs"
   ]
  },
  {
   "cell_type": "code",
   "execution_count": 28,
   "id": "c0699a54",
   "metadata": {},
   "outputs": [
    {
     "name": "stdout",
     "output_type": "stream",
     "text": [
      "4\n"
     ]
    },
    {
     "data": {
      "text/plain": [
       "[{'text': \"Yes, even if you don't register, you're still eligible to submit the homeworks.\\nBe aware, however, that there will be deadlines for turning in the final projects. So don't leave everything for the last minute.\",\n",
       "  'section': 'General course-related questions',\n",
       "  'question': 'Course - Can I still join the course after the start date?',\n",
       "  'course': 'data-engineering-zoomcamp',\n",
       "  'id': '7842b56a'},\n",
       " {'text': 'You can start by installing and setting up all the dependencies and requirements:\\nGoogle cloud account\\nGoogle Cloud SDK\\nPython 3 (installed with Anaconda)\\nTerraform\\nGit\\nLook over the prerequisites and syllabus to see if you are comfortable with these subjects.',\n",
       "  'section': 'General course-related questions',\n",
       "  'question': 'Course - What can I do before the course starts?',\n",
       "  'course': 'data-engineering-zoomcamp',\n",
       "  'id': '63394d91'},\n",
       " {'text': 'Yes, we will keep all the materials after the course finishes, so you can follow the course at your own pace after it finishes.\\nYou can also continue looking at the homeworks and continue preparing for the next cohort. I guess you can also start working on your final capstone project.',\n",
       "  'section': 'General course-related questions',\n",
       "  'question': 'Course - Can I follow the course after it finishes?',\n",
       "  'course': 'data-engineering-zoomcamp',\n",
       "  'id': 'a482086d'},\n",
       " {'text': 'Yes, the slack channel remains open and you can ask questions there. But always sDocker containers exit code w search the channel first and second, check the FAQ (this document), most likely all your questions are already answered here.\\nYou can also tag the bot @ZoomcampQABot to help you conduct the search, but don’t rely on its answers 100%, it is pretty good though.',\n",
       "  'section': 'General course-related questions',\n",
       "  'question': 'Course - Can I get support if I take the course in the self-paced mode?',\n",
       "  'course': 'data-engineering-zoomcamp',\n",
       "  'id': 'eb56ae98'},\n",
       " {'text': \"You don't need it. You're accepted. You can also just start learning and submitting homework without registering. It is not checked against any registered list. Registration is just to gauge interest before the start date.\",\n",
       "  'section': 'General course-related questions',\n",
       "  'question': 'Course - I have registered for the Data Engineering Bootcamp. When can I expect to receive the confirmation email?',\n",
       "  'course': 'data-engineering-zoomcamp',\n",
       "  'id': '0bbf41ec'}]"
      ]
     },
     "execution_count": 28,
     "metadata": {},
     "output_type": "execute_result"
    }
   ],
   "source": [
    "elastic_search(\n",
    "    query=\"Course - I just discovered the course. Can I still join?\",\n",
    "    course=\"data-engineering-zoomcamp\"\n",
    ")"
   ]
  },
  {
   "cell_type": "code",
   "execution_count": 29,
   "id": "9c9b1200",
   "metadata": {},
   "outputs": [],
   "source": [
    "import pandas as pd"
   ]
  },
  {
   "cell_type": "code",
   "execution_count": 30,
   "id": "bd8bd05e",
   "metadata": {},
   "outputs": [],
   "source": [
    "df_ground_truth = pd.read_csv('ground-truth-data.csv')"
   ]
  },
  {
   "cell_type": "code",
   "execution_count": 32,
   "id": "bc0e1af1",
   "metadata": {},
   "outputs": [
    {
     "data": {
      "text/html": [
       "<div>\n",
       "<style scoped>\n",
       "    .dataframe tbody tr th:only-of-type {\n",
       "        vertical-align: middle;\n",
       "    }\n",
       "\n",
       "    .dataframe tbody tr th {\n",
       "        vertical-align: top;\n",
       "    }\n",
       "\n",
       "    .dataframe thead th {\n",
       "        text-align: right;\n",
       "    }\n",
       "</style>\n",
       "<table border=\"1\" class=\"dataframe\">\n",
       "  <thead>\n",
       "    <tr style=\"text-align: right;\">\n",
       "      <th></th>\n",
       "      <th>question</th>\n",
       "      <th>course</th>\n",
       "      <th>document</th>\n",
       "    </tr>\n",
       "  </thead>\n",
       "  <tbody>\n",
       "    <tr>\n",
       "      <th>0</th>\n",
       "      <td>What is the exact start date and time for the ...</td>\n",
       "      <td>data-engineering-zoomcamp</td>\n",
       "      <td>c02e79ef</td>\n",
       "    </tr>\n",
       "    <tr>\n",
       "      <th>1</th>\n",
       "      <td>How can I stay updated with the course schedul...</td>\n",
       "      <td>data-engineering-zoomcamp</td>\n",
       "      <td>c02e79ef</td>\n",
       "    </tr>\n",
       "    <tr>\n",
       "      <th>2</th>\n",
       "      <td>Where do I need to register before the course ...</td>\n",
       "      <td>data-engineering-zoomcamp</td>\n",
       "      <td>c02e79ef</td>\n",
       "    </tr>\n",
       "    <tr>\n",
       "      <th>3</th>\n",
       "      <td>Is there a specific platform or channel for co...</td>\n",
       "      <td>data-engineering-zoomcamp</td>\n",
       "      <td>c02e79ef</td>\n",
       "    </tr>\n",
       "    <tr>\n",
       "      <th>4</th>\n",
       "      <td>What should I do to ensure I don't miss the be...</td>\n",
       "      <td>data-engineering-zoomcamp</td>\n",
       "      <td>c02e79ef</td>\n",
       "    </tr>\n",
       "  </tbody>\n",
       "</table>\n",
       "</div>"
      ],
      "text/plain": [
       "                                            question  \\\n",
       "0  What is the exact start date and time for the ...   \n",
       "1  How can I stay updated with the course schedul...   \n",
       "2  Where do I need to register before the course ...   \n",
       "3  Is there a specific platform or channel for co...   \n",
       "4  What should I do to ensure I don't miss the be...   \n",
       "\n",
       "                      course  document  \n",
       "0  data-engineering-zoomcamp  c02e79ef  \n",
       "1  data-engineering-zoomcamp  c02e79ef  \n",
       "2  data-engineering-zoomcamp  c02e79ef  \n",
       "3  data-engineering-zoomcamp  c02e79ef  \n",
       "4  data-engineering-zoomcamp  c02e79ef  "
      ]
     },
     "execution_count": 32,
     "metadata": {},
     "output_type": "execute_result"
    }
   ],
   "source": [
    "df_ground_truth.head()"
   ]
  },
  {
   "cell_type": "code",
   "execution_count": 38,
   "id": "456bb3da",
   "metadata": {},
   "outputs": [
    {
     "data": {
      "text/plain": [
       "(10, 3)"
      ]
     },
     "execution_count": 38,
     "metadata": {},
     "output_type": "execute_result"
    }
   ],
   "source": [
    "df_ground_truth.shape"
   ]
  },
  {
   "cell_type": "code",
   "execution_count": 31,
   "id": "2907cc1c",
   "metadata": {},
   "outputs": [],
   "source": [
    "ground_truth = df_ground_truth.to_dict(orient='records')"
   ]
  },
  {
   "cell_type": "code",
   "execution_count": 33,
   "id": "8be9adc5",
   "metadata": {},
   "outputs": [
    {
     "data": {
      "text/plain": [
       "[{'question': 'What is the exact start date and time for the course?',\n",
       "  'course': 'data-engineering-zoomcamp',\n",
       "  'document': 'c02e79ef'},\n",
       " {'question': 'How can I stay updated with the course schedule and important announcements?',\n",
       "  'course': 'data-engineering-zoomcamp',\n",
       "  'document': 'c02e79ef'},\n",
       " {'question': 'Where do I need to register before the course begins?',\n",
       "  'course': 'data-engineering-zoomcamp',\n",
       "  'document': 'c02e79ef'},\n",
       " {'question': 'Is there a specific platform or channel for course-related communication?',\n",
       "  'course': 'data-engineering-zoomcamp',\n",
       "  'document': 'c02e79ef'},\n",
       " {'question': \"What should I do to ensure I don't miss the beginning of the course?\",\n",
       "  'course': 'data-engineering-zoomcamp',\n",
       "  'document': 'c02e79ef'},\n",
       " {'question': 'What background knowledge or skills do I need before enrolling in this course?',\n",
       "  'course': 'data-engineering-zoomcamp',\n",
       "  'document': '1f6520ca'},\n",
       " {'question': 'Are there any specific technical requirements I should meet to take this course?',\n",
       "  'course': 'data-engineering-zoomcamp',\n",
       "  'document': '1f6520ca'},\n",
       " {'question': 'Do I need prior experience with data engineering tools to join this course?',\n",
       "  'course': 'data-engineering-zoomcamp',\n",
       "  'document': '1f6520ca'},\n",
       " {'question': 'What are the recommended prerequisites to ensure I can follow the course material effectively?',\n",
       "  'course': 'data-engineering-zoomcamp',\n",
       "  'document': '1f6520ca'},\n",
       " {'question': 'Is there a list of required skills or tools I should be familiar with before starting the course?',\n",
       "  'course': 'data-engineering-zoomcamp',\n",
       "  'document': '1f6520ca'}]"
      ]
     },
     "execution_count": 33,
     "metadata": {},
     "output_type": "execute_result"
    }
   ],
   "source": [
    "ground_truth"
   ]
  },
  {
   "cell_type": "code",
   "execution_count": 37,
   "id": "35b6e250",
   "metadata": {},
   "outputs": [
    {
     "data": {
      "text/plain": [
       "10"
      ]
     },
     "execution_count": 37,
     "metadata": {},
     "output_type": "execute_result"
    }
   ],
   "source": [
    "len(ground_truth)"
   ]
  },
  {
   "cell_type": "code",
   "execution_count": 36,
   "id": "e8847b4f",
   "metadata": {},
   "outputs": [
    {
     "data": {
      "application/vnd.jupyter.widget-view+json": {
       "model_id": "a4b8d9d67116406aa973207d292721d9",
       "version_major": 2,
       "version_minor": 0
      },
      "text/plain": [
       "  0%|          | 0/10 [00:00<?, ?it/s]"
      ]
     },
     "metadata": {},
     "output_type": "display_data"
    },
    {
     "name": "stdout",
     "output_type": "stream",
     "text": [
      "4\n",
      "4\n",
      "4\n",
      "4\n",
      "4\n",
      "4\n",
      "4\n",
      "4\n",
      "4\n",
      "4\n"
     ]
    }
   ],
   "source": [
    "relevance_total = []\n",
    "\n",
    "for q in tqdm(ground_truth):\n",
    "    doc_id = q['document']\n",
    "    results = elastic_search(query=q['question'], course=q['course'])\n",
    "    relevance = [d['id'] == doc_id for d in results]\n",
    "    relevance_total.append(relevance)"
   ]
  },
  {
   "cell_type": "code",
   "execution_count": 39,
   "id": "90a16dea",
   "metadata": {},
   "outputs": [
    {
     "data": {
      "text/plain": [
       "[[False, False, True, False, False],\n",
       " [False, False, False, False, False],\n",
       " [False, False, False, False, False],\n",
       " [False, False, False, False, False],\n",
       " [False, False, False, False, False],\n",
       " [False, False, True, False, False],\n",
       " [True, False, False, False, False],\n",
       " [False, False, False, False, False],\n",
       " [True, False, False, False, False],\n",
       " [False, False, False, False, False]]"
      ]
     },
     "execution_count": 39,
     "metadata": {},
     "output_type": "execute_result"
    }
   ],
   "source": [
    "relevance_total"
   ]
  },
  {
   "cell_type": "code",
   "execution_count": 40,
   "id": "93cf376d",
   "metadata": {},
   "outputs": [],
   "source": [
    "def hit_rate(relevance_total):\n",
    "    cnt = 0\n",
    "\n",
    "    for line in relevance_total:\n",
    "        if True in line:\n",
    "            cnt = cnt + 1\n",
    "\n",
    "    return cnt / len(relevance_total)"
   ]
  },
  {
   "cell_type": "code",
   "execution_count": 41,
   "id": "82c85a87",
   "metadata": {},
   "outputs": [],
   "source": [
    "def mrr(relevance_total):\n",
    "    total_score = 0.0\n",
    "\n",
    "    for line in relevance_total:\n",
    "        for rank in range(len(line)):\n",
    "            if line[rank] == True:\n",
    "                total_score = total_score + 1 / (rank + 1)\n",
    "\n",
    "    return total_score / len(relevance_total)"
   ]
  },
  {
   "cell_type": "code",
   "execution_count": 42,
   "id": "d928560c",
   "metadata": {},
   "outputs": [
    {
     "data": {
      "text/plain": [
       "(0.4, 0.26666666666666666)"
      ]
     },
     "execution_count": 42,
     "metadata": {},
     "output_type": "execute_result"
    }
   ],
   "source": [
    "hit_rate(relevance_total), mrr(relevance_total)"
   ]
  }
 ],
 "metadata": {
  "kernelspec": {
   "display_name": "llm-zoomcamp",
   "language": "python",
   "name": "python3"
  },
  "language_info": {
   "codemirror_mode": {
    "name": "ipython",
    "version": 3
   },
   "file_extension": ".py",
   "mimetype": "text/x-python",
   "name": "python",
   "nbconvert_exporter": "python",
   "pygments_lexer": "ipython3",
   "version": "3.10.12"
  }
 },
 "nbformat": 4,
 "nbformat_minor": 5
}
