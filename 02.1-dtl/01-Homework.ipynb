{
 "cells": [
  {
   "cell_type": "code",
   "execution_count": 1,
   "id": "f46632d8",
   "metadata": {},
   "outputs": [],
   "source": [
    "! pip install -q \"dlt[qdrant]\" \"qdrant-client[fastembed]\""
   ]
  },
  {
   "cell_type": "code",
   "execution_count": 20,
   "id": "9dab9f0c",
   "metadata": {},
   "outputs": [
    {
     "name": "stdout",
     "output_type": "stream",
     "text": [
      "Descargando documentos de: https://github.com/alexeygrigorev/llm-rag-workshop/raw/main/notebooks/documents.json\n",
      "Run started at 2025-07-06 18:20:36.092319+00:00 and COMPLETED in 2 minutes and 8.85 seconds with 4 steps.\n",
      "Step extract COMPLETED in 28.09 seconds.\n",
      "\n",
      "Load package 1751826040.2197907 is EXTRACTED and NOT YET LOADED to the destination and contains no failed jobs\n",
      "\n",
      "Step normalize COMPLETED in 0.11 seconds.\n",
      "Normalized data for the following tables:\n",
      "- zoomcamp_data: 948 row(s)\n",
      "\n",
      "Load package 1751826040.2197907 is NORMALIZED and NOT YET LOADED to the destination and contains no failed jobs\n",
      "\n",
      "Step load COMPLETED in 1 minute and 36.54 seconds.\n",
      "Pipeline zoomcamp_pipeline load step completed in 1 minute and 36.52 seconds\n",
      "1 load package(s) were loaded to destination qdrant and into dataset zoomcamp_tagged_data\n",
      "The qdrant destination used /media/villarreal-fx/Proyectos/llm-zoomcamp/02.1-dtl/db.qdrant location to store data\n",
      "Load package 1751826040.2197907 is LOADED and contains no failed jobs\n",
      "\n",
      "Step run COMPLETED in 2 minutes and 8.85 seconds.\n",
      "Pipeline zoomcamp_pipeline load step completed in 1 minute and 36.52 seconds\n",
      "1 load package(s) were loaded to destination qdrant and into dataset zoomcamp_tagged_data\n",
      "The qdrant destination used /media/villarreal-fx/Proyectos/llm-zoomcamp/02.1-dtl/db.qdrant location to store data\n",
      "Load package 1751826040.2197907 is LOADED and contains no failed jobs\n"
     ]
    }
   ],
   "source": [
    "import dlt\n",
    "import requests # ¡No olvides importar requests!\n",
    "from dlt.destinations import qdrant\n",
    "\n",
    "# --- Función para extraer datos con el decorador ---\n",
    "@dlt.resource # <-- Aquí va el decorador\n",
    "def zoomcamp_data():\n",
    "    docs_url = 'https://github.com/alexeygrigorev/llm-rag-workshop/raw/main/notebooks/documents.json'\n",
    "    print(f\"Descargando documentos de: {docs_url}\") # Un print para saber qué está haciendo\n",
    "    docs_response = requests.get(docs_url)\n",
    "    documents_raw = docs_response.json()\n",
    "\n",
    "    for course in documents_raw:\n",
    "        course_name = course['course']\n",
    "\n",
    "        for doc in course['documents']:\n",
    "            doc['course'] = course_name\n",
    "            yield doc # <-- Usa yield para que dlt procese cada documento\n",
    "\n",
    "# --- Configuración de Qdrant ---\n",
    "qdrant_destination = qdrant(\n",
    "  qd_path=\"db.qdrant\",\n",
    ")\n",
    "\n",
    "# --- Configuración y ejecución del pipeline ---\n",
    "pipeline = dlt.pipeline(\n",
    "    pipeline_name=\"zoomcamp_pipeline\",\n",
    "    destination=qdrant_destination,\n",
    "    dataset_name=\"zoomcamp_tagged_data\"\n",
    ")\n",
    "\n",
    "# Ejecuta el pipeline, pasando la llamada a la función decorada\n",
    "load_info = pipeline.run(zoomcamp_data())\n",
    "print(pipeline.last_trace)"
   ]
  },
  {
   "cell_type": "code",
   "execution_count": 12,
   "id": "4358d964",
   "metadata": {},
   "outputs": [
    {
     "data": {
      "text/plain": [
       "'1.12.3'"
      ]
     },
     "execution_count": 12,
     "metadata": {},
     "output_type": "execute_result"
    }
   ],
   "source": [
    "dlt.__version__"
   ]
  }
 ],
 "metadata": {
  "kernelspec": {
   "display_name": "llm-zoomcamp",
   "language": "python",
   "name": "python3"
  },
  "language_info": {
   "codemirror_mode": {
    "name": "ipython",
    "version": 3
   },
   "file_extension": ".py",
   "mimetype": "text/x-python",
   "name": "python",
   "nbconvert_exporter": "python",
   "pygments_lexer": "ipython3",
   "version": "3.10.12"
  }
 },
 "nbformat": 4,
 "nbformat_minor": 5
}
